{
 "cells": [
  {
   "cell_type": "code",
   "execution_count": 1,
   "id": "753d8c57",
   "metadata": {},
   "outputs": [],
   "source": [
    "#importing the libraries\n",
    "import matplotlib.pyplot as plt\n",
    "import numpy as np \n",
    "import pandas as pd\n",
    "import matplotlib.style as stl\n",
    "import seaborn as sns\n",
    "import sklearn as skl"
   ]
  },
  {
   "cell_type": "code",
   "execution_count": 2,
   "id": "1cc3f39f",
   "metadata": {},
   "outputs": [],
   "source": [
    "import warnings\n",
    "warnings.filterwarnings(action=\"ignore\")"
   ]
  },
  {
   "cell_type": "code",
   "execution_count": 3,
   "id": "d4690a70",
   "metadata": {},
   "outputs": [],
   "source": [
    "# importing data set in to python envirinment\n",
    "pd.set_option(\"display.max_columns\", None)\n",
    "#data=pd.read_csv(path+'/dataset.csv')\n",
    "data=pd.read_csv('drugsideeffects.csv')"
   ]
  },
  {
   "cell_type": "code",
   "execution_count": 4,
   "id": "8f8b34ca",
   "metadata": {},
   "outputs": [
    {
     "data": {
      "text/html": [
       "<div>\n",
       "<style scoped>\n",
       "    .dataframe tbody tr th:only-of-type {\n",
       "        vertical-align: middle;\n",
       "    }\n",
       "\n",
       "    .dataframe tbody tr th {\n",
       "        vertical-align: top;\n",
       "    }\n",
       "\n",
       "    .dataframe thead th {\n",
       "        text-align: right;\n",
       "    }\n",
       "</style>\n",
       "<table border=\"1\" class=\"dataframe\">\n",
       "  <thead>\n",
       "    <tr style=\"text-align: right;\">\n",
       "      <th></th>\n",
       "      <th>urlDrugName</th>\n",
       "      <th>rating</th>\n",
       "      <th>effectiveness</th>\n",
       "      <th>condition</th>\n",
       "      <th>sideEffects</th>\n",
       "    </tr>\n",
       "  </thead>\n",
       "  <tbody>\n",
       "    <tr>\n",
       "      <th>0</th>\n",
       "      <td>enalapril</td>\n",
       "      <td>4</td>\n",
       "      <td>Highly Effective</td>\n",
       "      <td>management of congestive heart failure</td>\n",
       "      <td>Mild Side Effects</td>\n",
       "    </tr>\n",
       "    <tr>\n",
       "      <th>1</th>\n",
       "      <td>ortho-tri-cyclen</td>\n",
       "      <td>1</td>\n",
       "      <td>Highly Effective</td>\n",
       "      <td>birth prevention</td>\n",
       "      <td>Severe Side Effects</td>\n",
       "    </tr>\n",
       "    <tr>\n",
       "      <th>2</th>\n",
       "      <td>ponstel</td>\n",
       "      <td>10</td>\n",
       "      <td>Highly Effective</td>\n",
       "      <td>menstrual cramps</td>\n",
       "      <td>No Side Effects</td>\n",
       "    </tr>\n",
       "    <tr>\n",
       "      <th>3</th>\n",
       "      <td>prilosec</td>\n",
       "      <td>3</td>\n",
       "      <td>Marginally Effective</td>\n",
       "      <td>acid reflux</td>\n",
       "      <td>Mild Side Effects</td>\n",
       "    </tr>\n",
       "    <tr>\n",
       "      <th>4</th>\n",
       "      <td>lyrica</td>\n",
       "      <td>2</td>\n",
       "      <td>Marginally Effective</td>\n",
       "      <td>fibromyalgia</td>\n",
       "      <td>Severe Side Effects</td>\n",
       "    </tr>\n",
       "    <tr>\n",
       "      <th>...</th>\n",
       "      <td>...</td>\n",
       "      <td>...</td>\n",
       "      <td>...</td>\n",
       "      <td>...</td>\n",
       "      <td>...</td>\n",
       "    </tr>\n",
       "    <tr>\n",
       "      <th>308347</th>\n",
       "      <td>differin</td>\n",
       "      <td>8</td>\n",
       "      <td>Considerably Effective</td>\n",
       "      <td>acne</td>\n",
       "      <td>Mild Side Effects</td>\n",
       "    </tr>\n",
       "    <tr>\n",
       "      <th>308348</th>\n",
       "      <td>imitrex</td>\n",
       "      <td>8</td>\n",
       "      <td>Considerably Effective</td>\n",
       "      <td>migraines</td>\n",
       "      <td>Mild Side Effects</td>\n",
       "    </tr>\n",
       "    <tr>\n",
       "      <th>308349</th>\n",
       "      <td>prilosec</td>\n",
       "      <td>10</td>\n",
       "      <td>Highly Effective</td>\n",
       "      <td>acid reflux</td>\n",
       "      <td>No Side Effects</td>\n",
       "    </tr>\n",
       "    <tr>\n",
       "      <th>308350</th>\n",
       "      <td>fosamax</td>\n",
       "      <td>1</td>\n",
       "      <td>Ineffective</td>\n",
       "      <td>possible osteoporosis</td>\n",
       "      <td>Extremely Severe Side Effects</td>\n",
       "    </tr>\n",
       "    <tr>\n",
       "      <th>308351</th>\n",
       "      <td>cialis</td>\n",
       "      <td>10</td>\n",
       "      <td>Highly Effective</td>\n",
       "      <td>ed</td>\n",
       "      <td>Mild Side Effects</td>\n",
       "    </tr>\n",
       "  </tbody>\n",
       "</table>\n",
       "<p>308352 rows × 5 columns</p>\n",
       "</div>"
      ],
      "text/plain": [
       "             urlDrugName  rating           effectiveness  \\\n",
       "0              enalapril       4        Highly Effective   \n",
       "1       ortho-tri-cyclen       1        Highly Effective   \n",
       "2                ponstel      10        Highly Effective   \n",
       "3               prilosec       3    Marginally Effective   \n",
       "4                 lyrica       2    Marginally Effective   \n",
       "...                  ...     ...                     ...   \n",
       "308347          differin       8  Considerably Effective   \n",
       "308348           imitrex       8  Considerably Effective   \n",
       "308349          prilosec      10        Highly Effective   \n",
       "308350           fosamax       1             Ineffective   \n",
       "308351            cialis      10        Highly Effective   \n",
       "\n",
       "                                     condition                    sideEffects  \n",
       "0       management of congestive heart failure              Mild Side Effects  \n",
       "1                             birth prevention            Severe Side Effects  \n",
       "2                             menstrual cramps                No Side Effects  \n",
       "3                                  acid reflux              Mild Side Effects  \n",
       "4                                 fibromyalgia            Severe Side Effects  \n",
       "...                                        ...                            ...  \n",
       "308347                                    acne              Mild Side Effects  \n",
       "308348                               migraines              Mild Side Effects  \n",
       "308349                             acid reflux                No Side Effects  \n",
       "308350                   possible osteoporosis  Extremely Severe Side Effects  \n",
       "308351                                      ed              Mild Side Effects  \n",
       "\n",
       "[308352 rows x 5 columns]"
      ]
     },
     "execution_count": 4,
     "metadata": {},
     "output_type": "execute_result"
    }
   ],
   "source": [
    "#display data\n",
    "data"
   ]
  },
  {
   "cell_type": "code",
   "execution_count": 5,
   "id": "3cff1605",
   "metadata": {},
   "outputs": [
    {
     "data": {
      "text/plain": [
       "(308352, 5)"
      ]
     },
     "execution_count": 5,
     "metadata": {},
     "output_type": "execute_result"
    }
   ],
   "source": [
    "#shape of the dataset\n",
    "data.shape"
   ]
  },
  {
   "cell_type": "code",
   "execution_count": 6,
   "id": "61cd9c37",
   "metadata": {},
   "outputs": [
    {
     "data": {
      "text/plain": [
       "Index(['urlDrugName', 'rating', 'effectiveness', 'condition', 'sideEffects'], dtype='object')"
      ]
     },
     "execution_count": 6,
     "metadata": {},
     "output_type": "execute_result"
    }
   ],
   "source": [
    "#columns present in the dataset\n",
    "data.columns"
   ]
  },
  {
   "cell_type": "code",
   "execution_count": 7,
   "id": "337da057",
   "metadata": {},
   "outputs": [
    {
     "name": "stdout",
     "output_type": "stream",
     "text": [
      "<class 'pandas.core.frame.DataFrame'>\n",
      "RangeIndex: 308352 entries, 0 to 308351\n",
      "Data columns (total 5 columns):\n",
      " #   Column         Non-Null Count   Dtype \n",
      "---  ------         --------------   ----- \n",
      " 0   urlDrugName    308352 non-null  object\n",
      " 1   rating         308352 non-null  int64 \n",
      " 2   effectiveness  308352 non-null  object\n",
      " 3   condition      308256 non-null  object\n",
      " 4   sideEffects    308352 non-null  object\n",
      "dtypes: int64(1), object(4)\n",
      "memory usage: 11.8+ MB\n"
     ]
    }
   ],
   "source": [
    "#A concise summary of the dataset\n",
    "data.info()"
   ]
  },
  {
   "cell_type": "code",
   "execution_count": 8,
   "id": "2c322821",
   "metadata": {},
   "outputs": [
    {
     "data": {
      "text/html": [
       "<div>\n",
       "<style scoped>\n",
       "    .dataframe tbody tr th:only-of-type {\n",
       "        vertical-align: middle;\n",
       "    }\n",
       "\n",
       "    .dataframe tbody tr th {\n",
       "        vertical-align: top;\n",
       "    }\n",
       "\n",
       "    .dataframe thead th {\n",
       "        text-align: right;\n",
       "    }\n",
       "</style>\n",
       "<table border=\"1\" class=\"dataframe\">\n",
       "  <thead>\n",
       "    <tr style=\"text-align: right;\">\n",
       "      <th></th>\n",
       "      <th>rating</th>\n",
       "    </tr>\n",
       "  </thead>\n",
       "  <tbody>\n",
       "    <tr>\n",
       "      <th>count</th>\n",
       "      <td>308352.000000</td>\n",
       "    </tr>\n",
       "    <tr>\n",
       "      <th>mean</th>\n",
       "      <td>7.007521</td>\n",
       "    </tr>\n",
       "    <tr>\n",
       "      <th>std</th>\n",
       "      <td>2.934459</td>\n",
       "    </tr>\n",
       "    <tr>\n",
       "      <th>min</th>\n",
       "      <td>1.000000</td>\n",
       "    </tr>\n",
       "    <tr>\n",
       "      <th>25%</th>\n",
       "      <td>5.000000</td>\n",
       "    </tr>\n",
       "    <tr>\n",
       "      <th>50%</th>\n",
       "      <td>8.000000</td>\n",
       "    </tr>\n",
       "    <tr>\n",
       "      <th>75%</th>\n",
       "      <td>9.000000</td>\n",
       "    </tr>\n",
       "    <tr>\n",
       "      <th>max</th>\n",
       "      <td>10.000000</td>\n",
       "    </tr>\n",
       "  </tbody>\n",
       "</table>\n",
       "</div>"
      ],
      "text/plain": [
       "              rating\n",
       "count  308352.000000\n",
       "mean        7.007521\n",
       "std         2.934459\n",
       "min         1.000000\n",
       "25%         5.000000\n",
       "50%         8.000000\n",
       "75%         9.000000\n",
       "max        10.000000"
      ]
     },
     "execution_count": 8,
     "metadata": {},
     "output_type": "execute_result"
    }
   ],
   "source": [
    "data.describe()"
   ]
  },
  {
   "cell_type": "code",
   "execution_count": 9,
   "id": "7fbdabac",
   "metadata": {},
   "outputs": [
    {
     "data": {
      "text/plain": [
       "urlDrugName       502\n",
       "rating             10\n",
       "effectiveness       5\n",
       "condition        1426\n",
       "sideEffects         5\n",
       "dtype: int64"
      ]
     },
     "execution_count": 9,
     "metadata": {},
     "output_type": "execute_result"
    }
   ],
   "source": [
    "# no of unique values present in the dataset\n",
    "data.nunique()"
   ]
  },
  {
   "cell_type": "code",
   "execution_count": 10,
   "id": "aabd01bd",
   "metadata": {},
   "outputs": [
    {
     "data": {
      "text/plain": [
       "effectiveness\n",
       "Highly Effective          131760\n",
       "Considerably Effective     92283\n",
       "Moderately Effective       41235\n",
       "Ineffective                24552\n",
       "Marginally Effective       18522\n",
       "dtype: int64"
      ]
     },
     "execution_count": 10,
     "metadata": {},
     "output_type": "execute_result"
    }
   ],
   "source": [
    "data.value_counts('effectiveness')"
   ]
  },
  {
   "cell_type": "code",
   "execution_count": 11,
   "id": "17714181",
   "metadata": {},
   "outputs": [
    {
     "data": {
      "text/plain": [
       "sideEffects                  \n",
       "Mild Side Effects                101454\n",
       "No Side Effects                   92160\n",
       "Moderate Side Effects             60819\n",
       "Severe Side Effects               36699\n",
       "Extremely Severe Side Effects     17220\n",
       "dtype: int64"
      ]
     },
     "execution_count": 11,
     "metadata": {},
     "output_type": "execute_result"
    }
   ],
   "source": [
    "data.value_counts(['sideEffects'])"
   ]
  },
  {
   "cell_type": "code",
   "execution_count": 12,
   "id": "29757703",
   "metadata": {},
   "outputs": [
    {
     "data": {
      "text/plain": [
       "urlDrugName       0\n",
       "rating            0\n",
       "effectiveness     0\n",
       "condition        96\n",
       "sideEffects       0\n",
       "dtype: int64"
      ]
     },
     "execution_count": 12,
     "metadata": {},
     "output_type": "execute_result"
    }
   ],
   "source": [
    "# Checking null values\n",
    "data.isna().sum()"
   ]
  },
  {
   "cell_type": "markdown",
   "id": "7a579a2d",
   "metadata": {},
   "source": [
    "### EXPLORATORY DATA ANALYSIS"
   ]
  },
  {
   "cell_type": "code",
   "execution_count": 13,
   "id": "ff632395",
   "metadata": {},
   "outputs": [
    {
     "data": {
      "image/png": "[encoded data removed]",
      "text/plain": [
       "<Figure size 360x360 with 1 Axes>"
      ]
     },
     "metadata": {
      "needs_background": "light"
     },
     "output_type": "display_data"
    }
   ],
   "source": [
    "#frequency graph of dataset\n",
    "freqgraph=data.select_dtypes(include=['float64','int64'])\n",
    "freqgraph.hist(figsize=(5,5))\n",
    "plt.tight_layout()\n",
    "plt.show()"
   ]
  },
  {
   "cell_type": "code",
   "execution_count": 14,
   "id": "bc1674e3",
   "metadata": {},
   "outputs": [
    {
     "data": {
      "text/plain": [
       "Text(0, 0.5, 'No.of peoples')"
      ]
     },
     "execution_count": 14,
     "metadata": {},
     "output_type": "execute_result"
    },
    {
     "data": {
      "image/png": "[encoded data removed]",
      "text/plain": [
       "<Figure size 432x288 with 1 Axes>"
      ]
     },
     "metadata": {
      "needs_background": "light"
     },
     "output_type": "display_data"
    }
   ],
   "source": [
    "#plotting bar chart\n",
    "data[\"rating\"].value_counts().plot(kind=\"bar\",color=[\"salmon\",\"lightblue\"]);\n",
    "plt.title(\"rating\")\n",
    "plt.ylabel(\"No.of peoples\")"
   ]
  },
  {
   "cell_type": "code",
   "execution_count": 15,
   "id": "f5f3760e",
   "metadata": {},
   "outputs": [
    {
     "data": {
      "text/plain": [
       "<AxesSubplot:ylabel='effectiveness'>"
      ]
     },
     "execution_count": 15,
     "metadata": {},
     "output_type": "execute_result"
    },
    {
     "data": {
      "image/png": "[encoded data removed]",
      "text/plain": [
       "<Figure size 576x432 with 1 Axes>"
      ]
     },
     "metadata": {},
     "output_type": "display_data"
    }
   ],
   "source": [
    "#plotting a pie chart\n",
    "data.effectiveness.value_counts().plot(kind=\"pie\",figsize=(8,6))\n"
   ]
  },
  {
   "cell_type": "code",
   "execution_count": 16,
   "id": "9852f3de",
   "metadata": {},
   "outputs": [
    {
     "data": {
      "text/plain": [
       "<AxesSubplot:ylabel='sideEffects'>"
      ]
     },
     "execution_count": 16,
     "metadata": {},
     "output_type": "execute_result"
    },
    {
     "data": {
      "image/png": "[encoded data removed]",
      "text/plain": [
       "<Figure size 576x432 with 1 Axes>"
      ]
     },
     "metadata": {},
     "output_type": "display_data"
    }
   ],
   "source": [
    "#plotting a pie chart\n",
    "data.sideEffects.value_counts().plot(kind=\"pie\",figsize=(8,6))\n"
   ]
  },
  {
   "cell_type": "code",
   "execution_count": 17,
   "id": "1b0aada1",
   "metadata": {},
   "outputs": [
    {
     "data": {
      "text/plain": [
       "Text(0.5, 1.0, 'Histogram of Rating')"
      ]
     },
     "execution_count": 17,
     "metadata": {},
     "output_type": "execute_result"
    },
    {
     "data": {
      "image/png": "[encoded data removed]",
      "text/plain": [
       "<Figure size 432x288 with 1 Axes>"
      ]
     },
     "metadata": {
      "needs_background": "light"
     },
     "output_type": "display_data"
    }
   ],
   "source": [
    "# Histplot of Rating\n",
    "sns.histplot(y=\"rating\",data=data,color=\"darkorange\")\n",
    "plt.title('Histogram of Rating')"
   ]
  },
  {
   "cell_type": "code",
   "execution_count": 18,
   "id": "5834ebc5",
   "metadata": {},
   "outputs": [
    {
     "data": {
      "text/plain": [
       "<AxesSubplot:xlabel='rating', ylabel='count'>"
      ]
     },
     "execution_count": 18,
     "metadata": {},
     "output_type": "execute_result"
    },
    {
     "data": {
      "image/png": "[encoded data removed]",
      "text/plain": [
       "<Figure size 432x288 with 1 Axes>"
      ]
     },
     "metadata": {
      "needs_background": "light"
     },
     "output_type": "display_data"
    }
   ],
   "source": [
    "sns.countplot(x=\"rating\",data=data,hue=\"sideEffects\")"
   ]
  },
  {
   "cell_type": "code",
   "execution_count": 19,
   "id": "48e6f9c6",
   "metadata": {},
   "outputs": [
    {
     "data": {
      "text/plain": [
       "<AxesSubplot:xlabel='rating', ylabel='effectiveness'>"
      ]
     },
     "execution_count": 19,
     "metadata": {},
     "output_type": "execute_result"
    },
    {
     "data": {
      "image/png": "[encoded data removed]",
      "text/plain": [
       "<Figure size 432x288 with 1 Axes>"
      ]
     },
     "metadata": {
      "needs_background": "light"
     },
     "output_type": "display_data"
    }
   ],
   "source": [
    "sns.scatterplot(data['rating'],data['effectiveness'],color=\"red\")"
   ]
  },
  {
   "cell_type": "code",
   "execution_count": 20,
   "id": "00ce05fa",
   "metadata": {},
   "outputs": [
    {
     "data": {
      "text/plain": [
       "<AxesSubplot:xlabel='effectiveness', ylabel='count'>"
      ]
     },
     "execution_count": 20,
     "metadata": {},
     "output_type": "execute_result"
    },
    {
     "data": {
      "image/png": "[encoded data removed]",
      "text/plain": [
       "<Figure size 432x288 with 1 Axes>"
      ]
     },
     "metadata": {
      "needs_background": "light"
     },
     "output_type": "display_data"
    }
   ],
   "source": [
    "sns.countplot(x=\"effectiveness\",data=data,hue=\"sideEffects\")"
   ]
  },
  {
   "cell_type": "markdown",
   "id": "85eef9e2",
   "metadata": {},
   "source": [
    "# DATA PREPROCESSING"
   ]
  },
  {
   "cell_type": "markdown",
   "id": "2699a94c",
   "metadata": {},
   "source": [
    "## 1. Missing value handling"
   ]
  },
  {
   "cell_type": "code",
   "execution_count": 21,
   "id": "6652b2ce",
   "metadata": {},
   "outputs": [
    {
     "data": {
      "text/plain": [
       "urlDrugName       0\n",
       "rating            0\n",
       "effectiveness     0\n",
       "condition        96\n",
       "sideEffects       0\n",
       "dtype: int64"
      ]
     },
     "execution_count": 21,
     "metadata": {},
     "output_type": "execute_result"
    }
   ],
   "source": [
    "# Checking null values\n",
    "data.isna().sum()"
   ]
  },
  {
   "cell_type": "code",
   "execution_count": 22,
   "id": "1518f693",
   "metadata": {},
   "outputs": [],
   "source": [
    "data.dropna(axis=0,inplace=True)"
   ]
  },
  {
   "cell_type": "code",
   "execution_count": 23,
   "id": "8a9a8c00",
   "metadata": {},
   "outputs": [
    {
     "data": {
      "text/plain": [
       "urlDrugName      0\n",
       "rating           0\n",
       "effectiveness    0\n",
       "condition        0\n",
       "sideEffects      0\n",
       "dtype: int64"
      ]
     },
     "execution_count": 23,
     "metadata": {},
     "output_type": "execute_result"
    }
   ],
   "source": [
    "# Checking null values\n",
    "data.isna().sum()"
   ]
  },
  {
   "cell_type": "markdown",
   "id": "2e6587c2",
   "metadata": {},
   "source": [
    "## 2. Outlier detection"
   ]
  },
  {
   "cell_type": "code",
   "execution_count": 24,
   "id": "80408254",
   "metadata": {},
   "outputs": [
    {
     "data": {
      "image/png": "[encoded data removed]",
      "text/plain": [
       "<Figure size 432x288 with 1 Axes>"
      ]
     },
     "metadata": {
      "needs_background": "light"
     },
     "output_type": "display_data"
    }
   ],
   "source": [
    "# Outlier detection using boxplot\n",
    "for i in ['rating']:\n",
    "  sns.boxplot(x=data[i])\n",
    "  plt.show()"
   ]
  },
  {
   "cell_type": "markdown",
   "id": "ebd13b29",
   "metadata": {},
   "source": [
    "### No outlier is present."
   ]
  },
  {
   "cell_type": "markdown",
   "id": "a17acb7f",
   "metadata": {},
   "source": [
    "## 3.Encoding"
   ]
  },
  {
   "cell_type": "code",
   "execution_count": 25,
   "id": "17c9fbac",
   "metadata": {},
   "outputs": [],
   "source": [
    "#import label encoder\n",
    "from sklearn.preprocessing import LabelEncoder\n",
    "#creating an instance LabelEncoder\n",
    "label_en =LabelEncoder()\n",
    "a=['urlDrugName', 'effectiveness', 'condition', 'sideEffects']\n",
    "for i in np.arange(len(a)):\n",
    "    data[a[i]]=label_en.fit_transform(data[a[i]])\n"
   ]
  },
  {
   "cell_type": "code",
   "execution_count": 26,
   "id": "c1c1a5bc",
   "metadata": {},
   "outputs": [
    {
     "data": {
      "text/html": [
       "<div>\n",
       "<style scoped>\n",
       "    .dataframe tbody tr th:only-of-type {\n",
       "        vertical-align: middle;\n",
       "    }\n",
       "\n",
       "    .dataframe tbody tr th {\n",
       "        vertical-align: top;\n",
       "    }\n",
       "\n",
       "    .dataframe thead th {\n",
       "        text-align: right;\n",
       "    }\n",
       "</style>\n",
       "<table border=\"1\" class=\"dataframe\">\n",
       "  <thead>\n",
       "    <tr style=\"text-align: right;\">\n",
       "      <th></th>\n",
       "      <th>urlDrugName</th>\n",
       "      <th>rating</th>\n",
       "      <th>effectiveness</th>\n",
       "      <th>condition</th>\n",
       "      <th>sideEffects</th>\n",
       "    </tr>\n",
       "  </thead>\n",
       "  <tbody>\n",
       "    <tr>\n",
       "      <th>0</th>\n",
       "      <td>166</td>\n",
       "      <td>4</td>\n",
       "      <td>1</td>\n",
       "      <td>797</td>\n",
       "      <td>1</td>\n",
       "    </tr>\n",
       "    <tr>\n",
       "      <th>1</th>\n",
       "      <td>319</td>\n",
       "      <td>1</td>\n",
       "      <td>1</td>\n",
       "      <td>224</td>\n",
       "      <td>4</td>\n",
       "    </tr>\n",
       "    <tr>\n",
       "      <th>2</th>\n",
       "      <td>345</td>\n",
       "      <td>10</td>\n",
       "      <td>1</td>\n",
       "      <td>819</td>\n",
       "      <td>3</td>\n",
       "    </tr>\n",
       "    <tr>\n",
       "      <th>3</th>\n",
       "      <td>353</td>\n",
       "      <td>3</td>\n",
       "      <td>3</td>\n",
       "      <td>11</td>\n",
       "      <td>1</td>\n",
       "    </tr>\n",
       "    <tr>\n",
       "      <th>4</th>\n",
       "      <td>259</td>\n",
       "      <td>2</td>\n",
       "      <td>3</td>\n",
       "      <td>492</td>\n",
       "      <td>4</td>\n",
       "    </tr>\n",
       "  </tbody>\n",
       "</table>\n",
       "</div>"
      ],
      "text/plain": [
       "   urlDrugName  rating  effectiveness  condition  sideEffects\n",
       "0          166       4              1        797            1\n",
       "1          319       1              1        224            4\n",
       "2          345      10              1        819            3\n",
       "3          353       3              3         11            1\n",
       "4          259       2              3        492            4"
      ]
     },
     "execution_count": 26,
     "metadata": {},
     "output_type": "execute_result"
    }
   ],
   "source": [
    "data.head()"
   ]
  },
  {
   "cell_type": "markdown",
   "id": "9364c6ac",
   "metadata": {},
   "source": [
    "## 4.Standardization"
   ]
  },
  {
   "cell_type": "code",
   "execution_count": 27,
   "id": "eb88dcf3",
   "metadata": {},
   "outputs": [],
   "source": [
    "#Splitting the data\n",
    "y=data[\"sideEffects\"]\n",
    "x=data.drop(['sideEffects'],axis=1)"
   ]
  },
  {
   "cell_type": "code",
   "execution_count": 28,
   "id": "b9283099",
   "metadata": {},
   "outputs": [
    {
     "data": {
      "text/html": [
       "<div>\n",
       "<style scoped>\n",
       "    .dataframe tbody tr th:only-of-type {\n",
       "        vertical-align: middle;\n",
       "    }\n",
       "\n",
       "    .dataframe tbody tr th {\n",
       "        vertical-align: top;\n",
       "    }\n",
       "\n",
       "    .dataframe thead th {\n",
       "        text-align: right;\n",
       "    }\n",
       "</style>\n",
       "<table border=\"1\" class=\"dataframe\">\n",
       "  <thead>\n",
       "    <tr style=\"text-align: right;\">\n",
       "      <th></th>\n",
       "      <th>urlDrugName</th>\n",
       "      <th>rating</th>\n",
       "      <th>effectiveness</th>\n",
       "      <th>condition</th>\n",
       "    </tr>\n",
       "  </thead>\n",
       "  <tbody>\n",
       "    <tr>\n",
       "      <th>0</th>\n",
       "      <td>166</td>\n",
       "      <td>4</td>\n",
       "      <td>1</td>\n",
       "      <td>797</td>\n",
       "    </tr>\n",
       "    <tr>\n",
       "      <th>1</th>\n",
       "      <td>319</td>\n",
       "      <td>1</td>\n",
       "      <td>1</td>\n",
       "      <td>224</td>\n",
       "    </tr>\n",
       "    <tr>\n",
       "      <th>2</th>\n",
       "      <td>345</td>\n",
       "      <td>10</td>\n",
       "      <td>1</td>\n",
       "      <td>819</td>\n",
       "    </tr>\n",
       "    <tr>\n",
       "      <th>3</th>\n",
       "      <td>353</td>\n",
       "      <td>3</td>\n",
       "      <td>3</td>\n",
       "      <td>11</td>\n",
       "    </tr>\n",
       "    <tr>\n",
       "      <th>4</th>\n",
       "      <td>259</td>\n",
       "      <td>2</td>\n",
       "      <td>3</td>\n",
       "      <td>492</td>\n",
       "    </tr>\n",
       "    <tr>\n",
       "      <th>...</th>\n",
       "      <td>...</td>\n",
       "      <td>...</td>\n",
       "      <td>...</td>\n",
       "      <td>...</td>\n",
       "    </tr>\n",
       "    <tr>\n",
       "      <th>308347</th>\n",
       "      <td>139</td>\n",
       "      <td>8</td>\n",
       "      <td>0</td>\n",
       "      <td>15</td>\n",
       "    </tr>\n",
       "    <tr>\n",
       "      <th>308348</th>\n",
       "      <td>215</td>\n",
       "      <td>8</td>\n",
       "      <td>0</td>\n",
       "      <td>835</td>\n",
       "    </tr>\n",
       "    <tr>\n",
       "      <th>308349</th>\n",
       "      <td>353</td>\n",
       "      <td>10</td>\n",
       "      <td>1</td>\n",
       "      <td>11</td>\n",
       "    </tr>\n",
       "    <tr>\n",
       "      <th>308350</th>\n",
       "      <td>196</td>\n",
       "      <td>1</td>\n",
       "      <td>2</td>\n",
       "      <td>1032</td>\n",
       "    </tr>\n",
       "    <tr>\n",
       "      <th>308351</th>\n",
       "      <td>92</td>\n",
       "      <td>10</td>\n",
       "      <td>1</td>\n",
       "      <td>439</td>\n",
       "    </tr>\n",
       "  </tbody>\n",
       "</table>\n",
       "<p>308256 rows × 4 columns</p>\n",
       "</div>"
      ],
      "text/plain": [
       "        urlDrugName  rating  effectiveness  condition\n",
       "0               166       4              1        797\n",
       "1               319       1              1        224\n",
       "2               345      10              1        819\n",
       "3               353       3              3         11\n",
       "4               259       2              3        492\n",
       "...             ...     ...            ...        ...\n",
       "308347          139       8              0         15\n",
       "308348          215       8              0        835\n",
       "308349          353      10              1         11\n",
       "308350          196       1              2       1032\n",
       "308351           92      10              1        439\n",
       "\n",
       "[308256 rows x 4 columns]"
      ]
     },
     "execution_count": 28,
     "metadata": {},
     "output_type": "execute_result"
    }
   ],
   "source": [
    "x"
   ]
  },
  {
   "cell_type": "code",
   "execution_count": 29,
   "id": "20520be8",
   "metadata": {},
   "outputs": [],
   "source": [
    "#importing StandardScaler\n",
    "from sklearn import preprocessing\n",
    "#creating an instance StandardScaler\n",
    "stdr = preprocessing.StandardScaler()\n",
    "x=stdr.fit_transform(x)"
   ]
  },
  {
   "cell_type": "code",
   "execution_count": 30,
   "id": "2d7ef3f0",
   "metadata": {},
   "outputs": [
    {
     "name": "stdout",
     "output_type": "stream",
     "text": [
      "(308256, 4)\n",
      "(308256,)\n"
     ]
    }
   ],
   "source": [
    "print(x.shape)\n",
    "print(y.shape)"
   ]
  },
  {
   "cell_type": "code",
   "execution_count": 31,
   "id": "c7880d4c",
   "metadata": {},
   "outputs": [
    {
     "name": "stdout",
     "output_type": "stream",
     "text": [
      "(231192, 4)\n",
      "(231192,)\n",
      "(77064, 4)\n",
      "(77064,)\n"
     ]
    }
   ],
   "source": [
    "from sklearn.model_selection import train_test_split\n",
    "#split the Dataset into train and test\n",
    "x_train,x_test,y_train,y_test= train_test_split(x,y,random_state=42,test_size=0.25)\n",
    "print(x_train.shape)\n",
    "print(y_train.shape)\n",
    "print(x_test.shape)\n",
    "print(y_test.shape)"
   ]
  },
  {
   "cell_type": "markdown",
   "id": "f6efc3a3",
   "metadata": {},
   "source": [
    "# MODELLING"
   ]
  },
  {
   "cell_type": "markdown",
   "id": "b61dc3b4",
   "metadata": {},
   "source": [
    "## 1. Random Forest"
   ]
  },
  {
   "cell_type": "code",
   "execution_count": 32,
   "id": "57d3dc8a",
   "metadata": {},
   "outputs": [],
   "source": [
    "from sklearn.ensemble import RandomForestClassifier\n",
    "rf=RandomForestClassifier()\n",
    "rf.fit(x_train,y_train)\n",
    "y_pred=rf.predict(x_test)"
   ]
  },
  {
   "cell_type": "code",
   "execution_count": 33,
   "id": "4c788876",
   "metadata": {},
   "outputs": [],
   "source": [
    "from sklearn.metrics import confusion_matrix, accuracy_score, precision_score, recall_score, f1_score"
   ]
  },
  {
   "cell_type": "code",
   "execution_count": 34,
   "id": "e7c70661",
   "metadata": {},
   "outputs": [
    {
     "name": "stdout",
     "output_type": "stream",
     "text": [
      "accuracy is : 0.9567113048894426\n",
      "precision is : 0.9570271411486214\n",
      "recall is : 0.9603946409291042\n",
      "F1 score is : 0.9585946202020317\n"
     ]
    }
   ],
   "source": [
    "print(\"accuracy is :\",accuracy_score(y_test,y_pred))\n",
    "print(\"precision is :\",precision_score(y_test,y_pred,average='macro'))\n",
    "print(\"recall is :\",recall_score(y_test,y_pred,average='macro'))\n",
    "print(\"F1 score is :\",f1_score(y_test,y_pred,average='macro'))"
   ]
  },
  {
   "cell_type": "markdown",
   "id": "4bd9a051",
   "metadata": {},
   "source": [
    "pd.Series(rf.feature_importances_,index=x.columns).sort_values(ascending=False)*100"
   ]
  },
  {
   "cell_type": "code",
   "execution_count": 35,
   "id": "6ad00d73",
   "metadata": {},
   "outputs": [],
   "source": [
    "t=[]\n",
    "t.append(['Random Forest',round(f1_score(y_test,y_pred,average='macro'),5),round(accuracy_score(y_test,y_pred),5),round(precision_score(y_test,y_pred,average='macro'),5),round(recall_score(y_test,y_pred,average='macro'),5)])\n"
   ]
  },
  {
   "cell_type": "markdown",
   "id": "295c7e7e",
   "metadata": {},
   "source": [
    "## 2. Logistic Regression"
   ]
  },
  {
   "cell_type": "code",
   "execution_count": 36,
   "id": "312e306f",
   "metadata": {},
   "outputs": [],
   "source": [
    "from sklearn.linear_model import LogisticRegression\n",
    "logit_model =LogisticRegression()\n",
    "logit_model.fit(x_train, y_train)\n",
    "y_pred= logit_model.predict(x_test)"
   ]
  },
  {
   "cell_type": "code",
   "execution_count": 37,
   "id": "f83f65ac",
   "metadata": {},
   "outputs": [],
   "source": [
    "from sklearn.metrics import confusion_matrix, accuracy_score, precision_score, recall_score, f1_score"
   ]
  },
  {
   "cell_type": "code",
   "execution_count": 38,
   "id": "d19f55c3",
   "metadata": {},
   "outputs": [
    {
     "name": "stdout",
     "output_type": "stream",
     "text": [
      "Accuracy is: 0.4760069552579674\n",
      "Precision is: 0.4688172757639987\n",
      "Recall is : 0.4416127738787733\n",
      "f1 score is: 0.44771511961210103\n"
     ]
    }
   ],
   "source": [
    "print(\"Accuracy is:\", accuracy_score(y_test, y_pred))\n",
    "print(\"Precision is:\", precision_score(y_test, y_pred,average='macro'))\n",
    "print(\"Recall is :\", recall_score(y_test,y_pred,average='macro'))\n",
    "print(\"f1 score is:\", f1_score(y_test, y_pred,average='macro'))"
   ]
  },
  {
   "cell_type": "code",
   "execution_count": 39,
   "id": "c5d3b3a0",
   "metadata": {},
   "outputs": [],
   "source": [
    "t.append(['Logistic Regression',round(f1_score(y_test,y_pred,average='macro'),5),round(accuracy_score(y_test,y_pred),5),round(precision_score(y_test,y_pred,average='macro'),5),round(recall_score(y_test,y_pred,average='macro'),5)])\n"
   ]
  },
  {
   "cell_type": "code",
   "execution_count": 40,
   "id": "d6075bff",
   "metadata": {},
   "outputs": [
    {
     "data": {
      "text/plain": [
       "array([[ 1667,   122,   134,    77,  2277],\n",
       "       [   85, 14535,  1583,  8661,   682],\n",
       "       [  362,  7325,  3801,  2066,  1651],\n",
       "       [  333,  8388,   964, 12554,   642],\n",
       "       [ 1044,  1399,  2111,   475,  4126]], dtype=int64)"
      ]
     },
     "execution_count": 40,
     "metadata": {},
     "output_type": "execute_result"
    }
   ],
   "source": [
    "confusion_matrix(y_test, y_pred)"
   ]
  },
  {
   "cell_type": "markdown",
   "id": "125bee17",
   "metadata": {},
   "source": [
    "## 3. KNN"
   ]
  },
  {
   "cell_type": "code",
   "execution_count": 41,
   "id": "524758a3",
   "metadata": {},
   "outputs": [],
   "source": [
    "from sklearn.neighbors import KNeighborsClassifier\n",
    "acc_values=[]\n",
    "neighbors=np.arange(3,15)\n",
    "for k in neighbors:\n",
    "    classifier=KNeighborsClassifier(n_neighbors=k, metric='minkowski')\n",
    "    classifier.fit(x_train, y_train)\n",
    "    y_pred= classifier.predict(x_test)\n",
    "    acc=accuracy_score(y_test, y_pred)\n",
    "    acc_values.append(acc)"
   ]
  },
  {
   "cell_type": "code",
   "execution_count": 42,
   "id": "c8cf4b50",
   "metadata": {},
   "outputs": [
    {
     "data": {
      "text/plain": [
       "[0.954907609259836,\n",
       " 0.9536618914149279,\n",
       " 0.9556083255475968,\n",
       " 0.9545442748884044,\n",
       " 0.9548946330322848,\n",
       " 0.9550892764455517,\n",
       " 0.9566983286618914,\n",
       " 0.9549724903975916,\n",
       " 0.9567113048894426,\n",
       " 0.9564388041108689,\n",
       " 0.956646423751687,\n",
       " 0.9557380878231081]"
      ]
     },
     "execution_count": 42,
     "metadata": {},
     "output_type": "execute_result"
    }
   ],
   "source": [
    "acc_values"
   ]
  },
  {
   "cell_type": "code",
   "execution_count": 43,
   "id": "5aeb31af",
   "metadata": {},
   "outputs": [
    {
     "data": {
      "text/plain": [
       "Text(0, 0.5, 'accuracy')"
      ]
     },
     "execution_count": 43,
     "metadata": {},
     "output_type": "execute_result"
    },
    {
     "data": {
      "image/png": "[encoded data removed]",
      "text/plain": [
       "<Figure size 432x288 with 1 Axes>"
      ]
     },
     "metadata": {
      "needs_background": "light"
     },
     "output_type": "display_data"
    }
   ],
   "source": [
    "plt.plot(neighbors, acc_values, 'o-')\n",
    "plt.xlabel('k value')\n",
    "plt.ylabel('accuracy')"
   ]
  },
  {
   "cell_type": "code",
   "execution_count": 44,
   "id": "b743f8a3",
   "metadata": {},
   "outputs": [],
   "source": [
    "classifier=KNeighborsClassifier(n_neighbors=11, metric='minkowski')\n",
    "classifier.fit(x_train, y_train)\n",
    "y_pred= classifier.predict(x_test)"
   ]
  },
  {
   "cell_type": "code",
   "execution_count": 45,
   "id": "f84662b4",
   "metadata": {},
   "outputs": [
    {
     "name": "stdout",
     "output_type": "stream",
     "text": [
      "accuracy is : 0.9567113048894426\n",
      "precision is : 0.9608474338464117\n",
      "recall is : 0.9578940419898055\n",
      "F1 score is : 0.9592979598976585\n"
     ]
    }
   ],
   "source": [
    "print(\"accuracy is :\",accuracy_score(y_test,y_pred))\n",
    "print(\"precision is :\",precision_score(y_test,y_pred,average='macro'))\n",
    "print(\"recall is :\",recall_score(y_test,y_pred,average='macro'))\n",
    "print(\"F1 score is :\",f1_score(y_test,y_pred,average='macro'))"
   ]
  },
  {
   "cell_type": "code",
   "execution_count": 46,
   "id": "32d76fff",
   "metadata": {},
   "outputs": [
    {
     "data": {
      "text/plain": [
       "array([[ 4113,     0,    25,     0,   139],\n",
       "       [   25, 24507,   272,   668,    74],\n",
       "       [    0,   597, 14402,    89,   117],\n",
       "       [   51,   951,     0, 21865,    14],\n",
       "       [   67,   122,    81,    44,  8841]], dtype=int64)"
      ]
     },
     "execution_count": 46,
     "metadata": {},
     "output_type": "execute_result"
    }
   ],
   "source": [
    "confusion_matrix(y_test, y_pred)"
   ]
  },
  {
   "cell_type": "code",
   "execution_count": 47,
   "id": "7c636c00",
   "metadata": {},
   "outputs": [],
   "source": [
    "t.append(['KNN',round(f1_score(y_test,y_pred,average='macro'),5),round(accuracy_score(y_test,y_pred),5),round(precision_score(y_test,y_pred,average='macro'),5),round(recall_score(y_test,y_pred,average='macro'),5)])\n"
   ]
  },
  {
   "cell_type": "markdown",
   "id": "2a29555e",
   "metadata": {},
   "source": [
    "## 4. Gaussian Naive Bayes"
   ]
  },
  {
   "cell_type": "code",
   "execution_count": 48,
   "id": "77096d1b",
   "metadata": {},
   "outputs": [
    {
     "data": {
      "text/plain": [
       "GaussianNB()"
      ]
     },
     "execution_count": 48,
     "metadata": {},
     "output_type": "execute_result"
    }
   ],
   "source": [
    "from sklearn.naive_bayes import GaussianNB\n",
    "classifier=GaussianNB()\n",
    "classifier.fit(x_train,y_train)"
   ]
  },
  {
   "cell_type": "code",
   "execution_count": 49,
   "id": "1158c0bc",
   "metadata": {},
   "outputs": [],
   "source": [
    "y_pred=classifier.predict(x_test)"
   ]
  },
  {
   "cell_type": "code",
   "execution_count": 50,
   "id": "93e3fe37",
   "metadata": {},
   "outputs": [
    {
     "data": {
      "text/plain": [
       "0.4573211875843455"
      ]
     },
     "execution_count": 50,
     "metadata": {},
     "output_type": "execute_result"
    }
   ],
   "source": [
    "from sklearn.metrics import confusion_matrix, accuracy_score\n",
    "confusion_matrix(y_test,y_pred)\n",
    "accuracy_score(y_test,y_pred)"
   ]
  },
  {
   "cell_type": "code",
   "execution_count": 51,
   "id": "9170e6a4",
   "metadata": {},
   "outputs": [
    {
     "name": "stdout",
     "output_type": "stream",
     "text": [
      "accuracy is : 0.4573211875843455\n",
      "precision is : 0.43380532584602516\n",
      "recall is : 0.4575957205343939\n",
      "F1 score is : 0.44073231372785315\n"
     ]
    }
   ],
   "source": [
    "print(\"accuracy is :\",accuracy_score(y_test,y_pred))\n",
    "print(\"precision is :\",precision_score(y_test,y_pred,average='macro'))\n",
    "print(\"recall is :\",recall_score(y_test,y_pred,average='macro'))\n",
    "print(\"F1 score is :\",f1_score(y_test,y_pred,average='macro'))"
   ]
  },
  {
   "cell_type": "code",
   "execution_count": 52,
   "id": "e916c85a",
   "metadata": {},
   "outputs": [],
   "source": [
    "t.append(['Gaussian Naive Bayes',round(f1_score(y_test,y_pred,average='macro'),5),round(accuracy_score(y_test,y_pred),5),round(precision_score(y_test,y_pred,average='macro'),5),round(recall_score(y_test,y_pred,average='macro'),5)])\n"
   ]
  },
  {
   "cell_type": "markdown",
   "id": "b09fd627",
   "metadata": {},
   "source": [
    "## 5. Bernoulli Naive Bayes"
   ]
  },
  {
   "cell_type": "code",
   "execution_count": 53,
   "id": "63332037",
   "metadata": {},
   "outputs": [
    {
     "data": {
      "text/plain": [
       "BernoulliNB()"
      ]
     },
     "execution_count": 53,
     "metadata": {},
     "output_type": "execute_result"
    }
   ],
   "source": [
    "from sklearn.naive_bayes import BernoulliNB\n",
    "classifier=BernoulliNB()\n",
    "classifier.fit(x_train, y_train)"
   ]
  },
  {
   "cell_type": "code",
   "execution_count": 54,
   "id": "c6d76bb1",
   "metadata": {},
   "outputs": [],
   "source": [
    "y_pred=classifier.predict(x_test)"
   ]
  },
  {
   "cell_type": "code",
   "execution_count": 55,
   "id": "b8906839",
   "metadata": {},
   "outputs": [
    {
     "data": {
      "text/plain": [
       "0.37882798712758226"
      ]
     },
     "execution_count": 55,
     "metadata": {},
     "output_type": "execute_result"
    }
   ],
   "source": [
    "from sklearn.metrics import confusion_matrix, accuracy_score\n",
    "confusion_matrix(y_test,y_pred)\n",
    "accuracy_score(y_test,y_pred)"
   ]
  },
  {
   "cell_type": "code",
   "execution_count": 56,
   "id": "3bb19401",
   "metadata": {},
   "outputs": [
    {
     "name": "stdout",
     "output_type": "stream",
     "text": [
      "accuracy is : 0.37882798712758226\n",
      "precision is : 0.2973848322392467\n",
      "recall is : 0.32813117676105313\n",
      "F1 score is : 0.3015391377894815\n"
     ]
    }
   ],
   "source": [
    "print(\"accuracy is :\",accuracy_score(y_test,y_pred))\n",
    "print(\"precision is :\",precision_score(y_test,y_pred,average='macro'))\n",
    "print(\"recall is :\",recall_score(y_test,y_pred,average='macro'))\n",
    "print(\"F1 score is :\",f1_score(y_test,y_pred,average='macro'))"
   ]
  },
  {
   "cell_type": "code",
   "execution_count": 57,
   "id": "1734afe1",
   "metadata": {},
   "outputs": [],
   "source": [
    "t.append(['Bernoulli Naive Bayes',round(f1_score(y_test,y_pred,average='macro'),5),round(accuracy_score(y_test,y_pred),5),round(precision_score(y_test,y_pred,average='macro'),5),round(recall_score(y_test,y_pred,average='macro'),5)])\n"
   ]
  },
  {
   "cell_type": "markdown",
   "id": "b730ef7f",
   "metadata": {},
   "source": [
    "## 6. Decision Tree Classifier"
   ]
  },
  {
   "cell_type": "code",
   "execution_count": 58,
   "id": "61428e39",
   "metadata": {},
   "outputs": [],
   "source": [
    "from sklearn.tree import DecisionTreeClassifier\n",
    "dt_model=DecisionTreeClassifier()\n",
    "dt_model.fit(x_train,y_train)\n",
    "y_pred=dt_model.predict(x_test)"
   ]
  },
  {
   "cell_type": "code",
   "execution_count": 59,
   "id": "80b3b775",
   "metadata": {},
   "outputs": [
    {
     "name": "stdout",
     "output_type": "stream",
     "text": [
      "accuracy is : 0.9568410671649538\n",
      "precision is : 0.9569460499738515\n",
      "recall is : 0.9603479737878565\n",
      "F1 score is : 0.9585185665846968\n"
     ]
    }
   ],
   "source": [
    "print(\"accuracy is :\",accuracy_score(y_test,y_pred))\n",
    "print(\"precision is :\",precision_score(y_test,y_pred,average='macro'))\n",
    "print(\"recall is :\",recall_score(y_test,y_pred,average='macro'))\n",
    "print(\"F1 score is :\",f1_score(y_test,y_pred,average='macro'))"
   ]
  },
  {
   "cell_type": "code",
   "execution_count": 60,
   "id": "845bd1e0",
   "metadata": {},
   "outputs": [
    {
     "data": {
      "text/plain": [
       "1    25546\n",
       "3    22881\n",
       "2    15205\n",
       "4     9155\n",
       "0     4277\n",
       "Name: sideEffects, dtype: int64"
      ]
     },
     "execution_count": 60,
     "metadata": {},
     "output_type": "execute_result"
    }
   ],
   "source": [
    "y_test.value_counts()"
   ]
  },
  {
   "cell_type": "code",
   "execution_count": 61,
   "id": "79bfcac5",
   "metadata": {},
   "outputs": [
    {
     "data": {
      "text/plain": [
       "array([[ 4199,     0,     0,     0,    78],\n",
       "       [   25, 24448,   205,   725,   143],\n",
       "       [   27,   652, 14393,    24,   109],\n",
       "       [   51,   770,   107, 21927,    26],\n",
       "       [  145,   126,    80,    33,  8771]], dtype=int64)"
      ]
     },
     "execution_count": 61,
     "metadata": {},
     "output_type": "execute_result"
    }
   ],
   "source": [
    "confusion_matrix(y_test, y_pred)"
   ]
  },
  {
   "cell_type": "code",
   "execution_count": 62,
   "id": "14b80076",
   "metadata": {},
   "outputs": [],
   "source": [
    "t.append(['Decision Tree Clssifier',round(f1_score(y_test,y_pred,average='macro'),5),round(accuracy_score(y_test,y_pred),5),round(precision_score(y_test,y_pred,average='macro'),5),round(recall_score(y_test,y_pred,average='macro'),5)])\n"
   ]
  },
  {
   "cell_type": "markdown",
   "id": "c59a0ba2",
   "metadata": {},
   "source": [
    "## 7. Gradient Booster"
   ]
  },
  {
   "cell_type": "code",
   "execution_count": 63,
   "id": "ea9ac021",
   "metadata": {},
   "outputs": [
    {
     "data": {
      "text/plain": [
       "GradientBoostingClassifier()"
      ]
     },
     "execution_count": 63,
     "metadata": {},
     "output_type": "execute_result"
    }
   ],
   "source": [
    "from sklearn.ensemble import GradientBoostingClassifier\n",
    "gb=GradientBoostingClassifier()\n",
    "gb.fit(x_train,y_train)"
   ]
  },
  {
   "cell_type": "code",
   "execution_count": 64,
   "id": "07deb8c9",
   "metadata": {},
   "outputs": [],
   "source": [
    "y_pred=gb.predict(x_test)"
   ]
  },
  {
   "cell_type": "code",
   "execution_count": 65,
   "id": "bb349e77",
   "metadata": {},
   "outputs": [
    {
     "name": "stdout",
     "output_type": "stream",
     "text": [
      "accuracy is : 0.6364190802449912\n",
      "precision is : 0.6433707209495977\n",
      "recall is : 0.6433549285026903\n",
      "F1 score is : 0.6409117171779279\n"
     ]
    }
   ],
   "source": [
    "print(\"accuracy is :\",accuracy_score(y_test,y_pred))\n",
    "print(\"precision is :\",precision_score(y_test,y_pred,average='macro'))\n",
    "print(\"recall is :\",recall_score(y_test,y_pred,average='macro'))\n",
    "print(\"F1 score is :\",f1_score(y_test,y_pred,average='macro'))"
   ]
  },
  {
   "cell_type": "code",
   "execution_count": 66,
   "id": "5ad1f5ba",
   "metadata": {},
   "outputs": [],
   "source": [
    "t.append(['Gradient Booster',round(f1_score(y_test,y_pred,average='macro'),5),round(accuracy_score(y_test,y_pred),5),round(precision_score(y_test,y_pred,average='macro'),5),round(recall_score(y_test,y_pred,average='macro'),5)])\n"
   ]
  },
  {
   "cell_type": "markdown",
   "id": "8cc0725e",
   "metadata": {},
   "source": [
    "## 8. Extreme Gradient Booster"
   ]
  },
  {
   "cell_type": "code",
   "execution_count": 67,
   "id": "7381e55b",
   "metadata": {},
   "outputs": [
    {
     "name": "stdout",
     "output_type": "stream",
     "text": [
      "[14:51:04] WARNING: ..\\src\\learner.cc:1115: Starting in XGBoost 1.3.0, the default evaluation metric used with the objective 'multi:softprob' was changed from 'merror' to 'mlogloss'. Explicitly set eval_metric if you'd like to restore the old behavior.\n"
     ]
    },
    {
     "data": {
      "text/plain": [
       "XGBClassifier(base_score=0.5, booster='gbtree', colsample_bylevel=1,\n",
       "              colsample_bynode=1, colsample_bytree=1, enable_categorical=False,\n",
       "              gamma=0, gpu_id=-1, importance_type=None,\n",
       "              interaction_constraints='', learning_rate=0.300000012,\n",
       "              max_delta_step=0, max_depth=6, min_child_weight=1, missing=nan,\n",
       "              monotone_constraints='()', n_estimators=100, n_jobs=2,\n",
       "              num_parallel_tree=1, objective='multi:softprob', predictor='auto',\n",
       "              random_state=0, reg_alpha=0, reg_lambda=1, scale_pos_weight=None,\n",
       "              subsample=1, tree_method='exact', validate_parameters=1,\n",
       "              verbosity=None)"
      ]
     },
     "execution_count": 67,
     "metadata": {},
     "output_type": "execute_result"
    }
   ],
   "source": [
    "from xgboost import XGBClassifier\n",
    "xb=XGBClassifier()\n",
    "xb.fit(x_train,y_train)"
   ]
  },
  {
   "cell_type": "code",
   "execution_count": 68,
   "id": "20f3c4c2",
   "metadata": {},
   "outputs": [],
   "source": [
    "y_pred=xb.predict(x_test)"
   ]
  },
  {
   "cell_type": "code",
   "execution_count": 69,
   "id": "6e9a1682",
   "metadata": {},
   "outputs": [
    {
     "name": "stdout",
     "output_type": "stream",
     "text": [
      "accuracy is : 0.936105055538254\n",
      "precision is : 0.9447525753161434\n",
      "recall is : 0.9431855957023615\n",
      "F1 score is : 0.9436096359093185\n"
     ]
    }
   ],
   "source": [
    "print(\"accuracy is :\",accuracy_score(y_test,y_pred))\n",
    "print(\"precision is :\",precision_score(y_test,y_pred,average='macro'))\n",
    "print(\"recall is :\",recall_score(y_test,y_pred,average='macro'))\n",
    "print(\"F1 score is :\",f1_score(y_test,y_pred,average='macro'))"
   ]
  },
  {
   "cell_type": "code",
   "execution_count": 70,
   "id": "8a9b9352",
   "metadata": {},
   "outputs": [],
   "source": [
    "t.append(['Extreme Gradient Booster',round(f1_score(y_test,y_pred,average='macro'),5),round(accuracy_score(y_test,y_pred),5),round(precision_score(y_test,y_pred,average='macro'),5),round(recall_score(y_test,y_pred,average='macro'),5)])\n"
   ]
  },
  {
   "cell_type": "markdown",
   "id": "c727866b",
   "metadata": {},
   "source": [
    "## Fine Tuning"
   ]
  },
  {
   "cell_type": "code",
   "execution_count": 71,
   "id": "3d443dda",
   "metadata": {},
   "outputs": [],
   "source": [
    "from sklearn.model_selection import GridSearchCV"
   ]
  },
  {
   "cell_type": "code",
   "execution_count": 72,
   "id": "b423cc66",
   "metadata": {},
   "outputs": [],
   "source": [
    "grid_params = { 'n_neighbors' : [4,6,8,10,12],\n",
    "               'weights' : ['uniform','distance'],\n",
    "               'metric' : ['minkowski','euclidean','manhattan']}"
   ]
  },
  {
   "cell_type": "code",
   "execution_count": 73,
   "id": "9fcf60d1",
   "metadata": {},
   "outputs": [],
   "source": [
    "gs = GridSearchCV(KNeighborsClassifier(), grid_params, verbose = 1, cv=3, n_jobs = -1)"
   ]
  },
  {
   "cell_type": "code",
   "execution_count": 74,
   "id": "b0628558",
   "metadata": {},
   "outputs": [
    {
     "name": "stdout",
     "output_type": "stream",
     "text": [
      "Fitting 3 folds for each of 30 candidates, totalling 90 fits\n"
     ]
    }
   ],
   "source": [
    "# fit the model on our train set\n",
    "g_res = gs.fit(x_train, y_train)"
   ]
  },
  {
   "cell_type": "code",
   "execution_count": 75,
   "id": "7f27d19f",
   "metadata": {},
   "outputs": [
    {
     "data": {
      "text/plain": [
       "0.9563349942904599"
      ]
     },
     "execution_count": 75,
     "metadata": {},
     "output_type": "execute_result"
    }
   ],
   "source": [
    "g_res.best_score_"
   ]
  },
  {
   "cell_type": "code",
   "execution_count": 76,
   "id": "c00ea70c",
   "metadata": {},
   "outputs": [
    {
     "data": {
      "text/plain": [
       "{'metric': 'minkowski', 'n_neighbors': 12, 'weights': 'uniform'}"
      ]
     },
     "execution_count": 76,
     "metadata": {},
     "output_type": "execute_result"
    }
   ],
   "source": [
    " #get the hyperparameters with the best score\n",
    "g_res.best_params_"
   ]
  },
  {
   "cell_type": "code",
   "execution_count": 77,
   "id": "aacfcd9d",
   "metadata": {},
   "outputs": [],
   "source": [
    "# use the best hyperparameters\n",
    "knn = KNeighborsClassifier(n_neighbors = 12, weights = 'uniform',algorithm = 'brute',metric = 'manhattan')\n",
    "y_pred=knn.fit(x_train, y_train)"
   ]
  },
  {
   "cell_type": "code",
   "execution_count": 78,
   "id": "5a2a95b0",
   "metadata": {},
   "outputs": [],
   "source": [
    "# get a prediction\n",
    "y_pred=knn.predict(x_test)\n"
   ]
  },
  {
   "cell_type": "code",
   "execution_count": 79,
   "id": "af50e771",
   "metadata": {},
   "outputs": [
    {
     "name": "stdout",
     "output_type": "stream",
     "text": [
      "accuracy is : 0.9557121353680058\n"
     ]
    }
   ],
   "source": [
    "print(\"accuracy is :\",accuracy_score(y_test,y_pred))"
   ]
  },
  {
   "cell_type": "code",
   "execution_count": 80,
   "id": "7bdba197",
   "metadata": {},
   "outputs": [],
   "source": [
    "t.append(['knn_fine_tuning',round(f1_score(y_test,y_pred,average='macro'),5),round(accuracy_score(y_test,y_pred),5),round(precision_score(y_test,y_pred,average='macro'),5),round(recall_score(y_test,y_pred,average='macro'),5)])"
   ]
  },
  {
   "cell_type": "code",
   "execution_count": 81,
   "id": "df88886b",
   "metadata": {},
   "outputs": [
    {
     "data": {
      "text/html": [
       "<div>\n",
       "<style scoped>\n",
       "    .dataframe tbody tr th:only-of-type {\n",
       "        vertical-align: middle;\n",
       "    }\n",
       "\n",
       "    .dataframe tbody tr th {\n",
       "        vertical-align: top;\n",
       "    }\n",
       "\n",
       "    .dataframe thead th {\n",
       "        text-align: right;\n",
       "    }\n",
       "</style>\n",
       "<table border=\"1\" class=\"dataframe\">\n",
       "  <thead>\n",
       "    <tr style=\"text-align: right;\">\n",
       "      <th></th>\n",
       "      <th>Algorithms</th>\n",
       "      <th>F1-Score</th>\n",
       "      <th>accuracy</th>\n",
       "      <th>precision</th>\n",
       "      <th>recall</th>\n",
       "    </tr>\n",
       "  </thead>\n",
       "  <tbody>\n",
       "    <tr>\n",
       "      <th>0</th>\n",
       "      <td>Random Forest</td>\n",
       "      <td>0.95859</td>\n",
       "      <td>0.95671</td>\n",
       "      <td>0.95703</td>\n",
       "      <td>0.96039</td>\n",
       "    </tr>\n",
       "    <tr>\n",
       "      <th>1</th>\n",
       "      <td>Logistic Regression</td>\n",
       "      <td>0.44772</td>\n",
       "      <td>0.47601</td>\n",
       "      <td>0.46882</td>\n",
       "      <td>0.44161</td>\n",
       "    </tr>\n",
       "    <tr>\n",
       "      <th>2</th>\n",
       "      <td>KNN</td>\n",
       "      <td>0.95930</td>\n",
       "      <td>0.95671</td>\n",
       "      <td>0.96085</td>\n",
       "      <td>0.95789</td>\n",
       "    </tr>\n",
       "    <tr>\n",
       "      <th>3</th>\n",
       "      <td>Gaussian Naive Bayes</td>\n",
       "      <td>0.44073</td>\n",
       "      <td>0.45732</td>\n",
       "      <td>0.43381</td>\n",
       "      <td>0.45760</td>\n",
       "    </tr>\n",
       "    <tr>\n",
       "      <th>4</th>\n",
       "      <td>Bernoulli Naive Bayes</td>\n",
       "      <td>0.30154</td>\n",
       "      <td>0.37883</td>\n",
       "      <td>0.29738</td>\n",
       "      <td>0.32813</td>\n",
       "    </tr>\n",
       "    <tr>\n",
       "      <th>5</th>\n",
       "      <td>Decision Tree Clssifier</td>\n",
       "      <td>0.95852</td>\n",
       "      <td>0.95684</td>\n",
       "      <td>0.95695</td>\n",
       "      <td>0.96035</td>\n",
       "    </tr>\n",
       "    <tr>\n",
       "      <th>6</th>\n",
       "      <td>Gradient Booster</td>\n",
       "      <td>0.64091</td>\n",
       "      <td>0.63642</td>\n",
       "      <td>0.64337</td>\n",
       "      <td>0.64335</td>\n",
       "    </tr>\n",
       "    <tr>\n",
       "      <th>7</th>\n",
       "      <td>Extreme Gradient Booster</td>\n",
       "      <td>0.94361</td>\n",
       "      <td>0.93611</td>\n",
       "      <td>0.94475</td>\n",
       "      <td>0.94319</td>\n",
       "    </tr>\n",
       "    <tr>\n",
       "      <th>8</th>\n",
       "      <td>knn_fine_tuning</td>\n",
       "      <td>0.95803</td>\n",
       "      <td>0.95571</td>\n",
       "      <td>0.95795</td>\n",
       "      <td>0.95852</td>\n",
       "    </tr>\n",
       "  </tbody>\n",
       "</table>\n",
       "</div>"
      ],
      "text/plain": [
       "                 Algorithms  F1-Score  accuracy  precision   recall\n",
       "0             Random Forest   0.95859   0.95671    0.95703  0.96039\n",
       "1       Logistic Regression   0.44772   0.47601    0.46882  0.44161\n",
       "2                       KNN   0.95930   0.95671    0.96085  0.95789\n",
       "3      Gaussian Naive Bayes   0.44073   0.45732    0.43381  0.45760\n",
       "4     Bernoulli Naive Bayes   0.30154   0.37883    0.29738  0.32813\n",
       "5   Decision Tree Clssifier   0.95852   0.95684    0.95695  0.96035\n",
       "6          Gradient Booster   0.64091   0.63642    0.64337  0.64335\n",
       "7  Extreme Gradient Booster   0.94361   0.93611    0.94475  0.94319\n",
       "8           knn_fine_tuning   0.95803   0.95571    0.95795  0.95852"
      ]
     },
     "execution_count": 81,
     "metadata": {},
     "output_type": "execute_result"
    }
   ],
   "source": [
    "df = pd.DataFrame(t, columns = ['Algorithms', 'F1-Score','accuracy','precision','recall'])\n",
    "df"
   ]
  },
  {
   "cell_type": "code",
   "execution_count": 82,
   "id": "ced201c0",
   "metadata": {},
   "outputs": [
    {
     "data": {
      "text/html": [
       "<div>\n",
       "<style scoped>\n",
       "    .dataframe tbody tr th:only-of-type {\n",
       "        vertical-align: middle;\n",
       "    }\n",
       "\n",
       "    .dataframe tbody tr th {\n",
       "        vertical-align: top;\n",
       "    }\n",
       "\n",
       "    .dataframe thead th {\n",
       "        text-align: right;\n",
       "    }\n",
       "</style>\n",
       "<table border=\"1\" class=\"dataframe\">\n",
       "  <thead>\n",
       "    <tr style=\"text-align: right;\">\n",
       "      <th></th>\n",
       "      <th>Predicted Data</th>\n",
       "      <th>Test Data</th>\n",
       "    </tr>\n",
       "  </thead>\n",
       "  <tbody>\n",
       "    <tr>\n",
       "      <th>78696</th>\n",
       "      <td>1</td>\n",
       "      <td>1</td>\n",
       "    </tr>\n",
       "    <tr>\n",
       "      <th>76751</th>\n",
       "      <td>1</td>\n",
       "      <td>1</td>\n",
       "    </tr>\n",
       "    <tr>\n",
       "      <th>151474</th>\n",
       "      <td>1</td>\n",
       "      <td>1</td>\n",
       "    </tr>\n",
       "    <tr>\n",
       "      <th>111659</th>\n",
       "      <td>1</td>\n",
       "      <td>1</td>\n",
       "    </tr>\n",
       "    <tr>\n",
       "      <th>112629</th>\n",
       "      <td>3</td>\n",
       "      <td>3</td>\n",
       "    </tr>\n",
       "    <tr>\n",
       "      <th>131687</th>\n",
       "      <td>2</td>\n",
       "      <td>2</td>\n",
       "    </tr>\n",
       "    <tr>\n",
       "      <th>153911</th>\n",
       "      <td>3</td>\n",
       "      <td>3</td>\n",
       "    </tr>\n",
       "    <tr>\n",
       "      <th>30904</th>\n",
       "      <td>1</td>\n",
       "      <td>1</td>\n",
       "    </tr>\n",
       "    <tr>\n",
       "      <th>105893</th>\n",
       "      <td>1</td>\n",
       "      <td>1</td>\n",
       "    </tr>\n",
       "    <tr>\n",
       "      <th>212806</th>\n",
       "      <td>4</td>\n",
       "      <td>4</td>\n",
       "    </tr>\n",
       "  </tbody>\n",
       "</table>\n",
       "</div>"
      ],
      "text/plain": [
       "        Predicted Data  Test Data\n",
       "78696                1          1\n",
       "76751                1          1\n",
       "151474               1          1\n",
       "111659               1          1\n",
       "112629               3          3\n",
       "131687               2          2\n",
       "153911               3          3\n",
       "30904                1          1\n",
       "105893               1          1\n",
       "212806               4          4"
      ]
     },
     "execution_count": 82,
     "metadata": {},
     "output_type": "execute_result"
    }
   ],
   "source": [
    "v = pd.DataFrame({'Predicted Data': y_pred, 'Test Data' : y_test})\n",
    "v.sample(10)"
   ]
  },
  {
   "cell_type": "code",
   "execution_count": null,
   "id": "58b007cf",
   "metadata": {},
   "outputs": [],
   "source": []
  }
 ],
 "metadata": {
  "kernelspec": {
   "display_name": "Python 3",
   "language": "python",
   "name": "python3"
  },
  "language_info": {
   "codemirror_mode": {
    "name": "ipython",
    "version": 3
   },
   "file_extension": ".py",
   "mimetype": "text/x-python",
   "name": "python",
   "nbconvert_exporter": "python",
   "pygments_lexer": "ipython3",
   "version": "3.8.8"
  }
 },
 "nbformat": 4,
 "nbformat_minor": 5
}
